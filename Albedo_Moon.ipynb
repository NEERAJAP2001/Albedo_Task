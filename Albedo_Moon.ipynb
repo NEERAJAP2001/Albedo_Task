{
  "nbformat": 4,
  "nbformat_minor": 0,
  "metadata": {
    "colab": {
      "name": "Albedo_Moon.ipynb",
      "provenance": [],
      "collapsed_sections": []
    },
    "kernelspec": {
      "name": "python3",
      "display_name": "Python 3"
    }
  },
  "cells": [
    {
      "cell_type": "code",
      "metadata": {
        "id": "KzmygGZvPV68"
      },
      "source": [
        "import pandas as pd\r\n",
        "import numpy as np"
      ],
      "execution_count": null,
      "outputs": []
    },
    {
      "cell_type": "code",
      "metadata": {
        "id": "wwaZN0pukwy7"
      },
      "source": [
        "sol = pd.read_csv('/content/Albedo_Map.csv')\r\n",
        "ti = pd.read_csv('/content/LPTi_Map.csv')\r\n",
        "fe = pd.read_csv('/content/LPFe_Map.csv')\r\n",
        "th = pd.read_csv('/content/LPTh_Map.csv')\r\n",
        "K = pd.read_csv('/content/LPK_Map.csv')"
      ],
      "execution_count": null,
      "outputs": []
    },
    {
      "cell_type": "code",
      "metadata": {
        "id": "w6SVPGamkw6P"
      },
      "source": [
        "sol = sol.values.flatten()\r\n",
        "ti = ti.values.flatten()\r\n",
        "fe = fe.values.flatten()\r\n",
        "th = th.values.flatten()\r\n",
        "K = K.values.flatten()"
      ],
      "execution_count": null,
      "outputs": []
    },
    {
      "cell_type": "code",
      "metadata": {
        "id": "LBAwcIaRkw81"
      },
      "source": [
        "Albedo_Map =  sol.reshape(len(sol),1)\r\n",
        "Fe_Map =  fe.reshape(len(fe),1)\r\n",
        "Ti_Map =  ti.reshape(len(ti),1)\r\n",
        "Th_Map =  th.reshape(len(th),1)\r\n",
        "K_Map =  K.reshape(len(K),1)"
      ],
      "execution_count": null,
      "outputs": []
    },
    {
      "cell_type": "code",
      "metadata": {
        "id": "MCphkZdskw_F"
      },
      "source": [
        "Sol = np.hstack((Fe_Map ,Ti_Map , Th_Map , K_Map , Albedo_Map))"
      ],
      "execution_count": null,
      "outputs": []
    },
    {
      "cell_type": "code",
      "metadata": {
        "id": "SuADMCGCkxB5"
      },
      "source": [
        "dfs = pd.DataFrame(Sol, columns =['Fe', 'Ti', 'Th','K','Albedo']) "
      ],
      "execution_count": null,
      "outputs": []
    },
    {
      "cell_type": "code",
      "metadata": {
        "id": "9ZCWCmqRkxEc"
      },
      "source": [
        "df.to_csv('Final_File_here.csv')"
      ],
      "execution_count": null,
      "outputs": []
    },
    {
      "cell_type": "code",
      "metadata": {
        "id": "AgyhJktDPdQb"
      },
      "source": [
        "df = pd.read_csv('/content/Final_File_here.csv')"
      ],
      "execution_count": null,
      "outputs": []
    },
    {
      "cell_type": "code",
      "metadata": {
        "id": "BIkHsj6iPdVX"
      },
      "source": [
        "df.drop(['Unnamed: 0'],axis =1,inplace=True)"
      ],
      "execution_count": null,
      "outputs": []
    },
    {
      "cell_type": "code",
      "metadata": {
        "colab": {
          "base_uri": "https://localhost:8080/",
          "height": 195
        },
        "id": "zO_D1J1KQK9S",
        "outputId": "3a4586eb-0c8a-46b3-bd2c-97e2a3144267"
      },
      "source": [
        "df.tail()"
      ],
      "execution_count": null,
      "outputs": [
        {
          "output_type": "execute_result",
          "data": {
            "text/html": [
              "<div>\n",
              "<style scoped>\n",
              "    .dataframe tbody tr th:only-of-type {\n",
              "        vertical-align: middle;\n",
              "    }\n",
              "\n",
              "    .dataframe tbody tr th {\n",
              "        vertical-align: top;\n",
              "    }\n",
              "\n",
              "    .dataframe thead th {\n",
              "        text-align: right;\n",
              "    }\n",
              "</style>\n",
              "<table border=\"1\" class=\"dataframe\">\n",
              "  <thead>\n",
              "    <tr style=\"text-align: right;\">\n",
              "      <th></th>\n",
              "      <th>Fe</th>\n",
              "      <th>Ti</th>\n",
              "      <th>Th</th>\n",
              "      <th>K</th>\n",
              "      <th>Albedo</th>\n",
              "    </tr>\n",
              "  </thead>\n",
              "  <tbody>\n",
              "    <tr>\n",
              "      <th>259195</th>\n",
              "      <td>3.82753</td>\n",
              "      <td>0.112137</td>\n",
              "      <td>0.79856</td>\n",
              "      <td>455.07</td>\n",
              "      <td>0.350174</td>\n",
              "    </tr>\n",
              "    <tr>\n",
              "      <th>259196</th>\n",
              "      <td>3.82753</td>\n",
              "      <td>0.112137</td>\n",
              "      <td>0.79856</td>\n",
              "      <td>455.07</td>\n",
              "      <td>0.378339</td>\n",
              "    </tr>\n",
              "    <tr>\n",
              "      <th>259197</th>\n",
              "      <td>3.82753</td>\n",
              "      <td>0.112137</td>\n",
              "      <td>0.79856</td>\n",
              "      <td>455.07</td>\n",
              "      <td>0.361495</td>\n",
              "    </tr>\n",
              "    <tr>\n",
              "      <th>259198</th>\n",
              "      <td>3.82753</td>\n",
              "      <td>0.112137</td>\n",
              "      <td>0.79856</td>\n",
              "      <td>455.07</td>\n",
              "      <td>0.346139</td>\n",
              "    </tr>\n",
              "    <tr>\n",
              "      <th>259199</th>\n",
              "      <td>3.82753</td>\n",
              "      <td>0.112137</td>\n",
              "      <td>0.79856</td>\n",
              "      <td>455.07</td>\n",
              "      <td>0.392665</td>\n",
              "    </tr>\n",
              "  </tbody>\n",
              "</table>\n",
              "</div>"
            ],
            "text/plain": [
              "             Fe        Ti       Th       K    Albedo\n",
              "259195  3.82753  0.112137  0.79856  455.07  0.350174\n",
              "259196  3.82753  0.112137  0.79856  455.07  0.378339\n",
              "259197  3.82753  0.112137  0.79856  455.07  0.361495\n",
              "259198  3.82753  0.112137  0.79856  455.07  0.346139\n",
              "259199  3.82753  0.112137  0.79856  455.07  0.392665"
            ]
          },
          "metadata": {
            "tags": []
          },
          "execution_count": 22
        }
      ]
    },
    {
      "cell_type": "code",
      "metadata": {
        "id": "cAsHv_8bQLAE"
      },
      "source": [
        "# DecisionTreeRegressor(ccp_alpha=0.0, criterion='mse', max_depth=None,\r\n",
        "#                       max_features=None, max_leaf_nodes=None,\r\n",
        "#                       min_impurity_decrease=0.0, min_impurity_split=None,\r\n",
        "#                       min_samples_leaf=1, min_samples_split=2,\r\n",
        "#                       min_weight_fraction_leaf=0.0, presort='deprecated',\r\n",
        "#                       random_state=3246, splitter='best')"
      ],
      "execution_count": null,
      "outputs": []
    },
    {
      "cell_type": "code",
      "metadata": {
        "id": "ZV97BCx1RzTV"
      },
      "source": [
        "X = df.iloc[:, :-1].values\r\n",
        "y = df.iloc[:, -1].values\r\n"
      ],
      "execution_count": null,
      "outputs": []
    },
    {
      "cell_type": "code",
      "metadata": {
        "id": "2sat_qMlRvdl"
      },
      "source": [
        "# Splitting the dataset into the Training set and Test set\r\n",
        "from sklearn.model_selection import train_test_split\r\n",
        "X_train, X_test, y_train, y_test = train_test_split(X, y, test_size = 0.2, random_state = 0)"
      ],
      "execution_count": null,
      "outputs": []
    },
    {
      "cell_type": "code",
      "metadata": {
        "colab": {
          "base_uri": "https://localhost:8080/"
        },
        "id": "nIGI_NWyQckQ",
        "outputId": "8b5de73b-bfa9-4370-b528-37ef9760f10c"
      },
      "source": [
        "\r\n",
        "\r\n",
        "\r\n",
        "# Training the Decision Tree Regression model on the whole dataset\r\n",
        "from sklearn.tree import DecisionTreeRegressor\r\n",
        "regressor = DecisionTreeRegressor(ccp_alpha=0.0, criterion='mse', max_depth=None,\r\n",
        "                      max_features=None, max_leaf_nodes=None,\r\n",
        "                      min_impurity_decrease=0.0, min_impurity_split=None,\r\n",
        "                      min_samples_leaf=1, min_samples_split=2,\r\n",
        "                      min_weight_fraction_leaf=0.0, presort='deprecated',\r\n",
        "                      random_state=3246, splitter='best')\r\n",
        "\r\n",
        "\r\n",
        "regressor.fit(X_train, y_train)\r\n",
        "\r\n",
        "# Predicting a new result\r\n",
        "#regressor.predict([[6.5]])\r\n"
      ],
      "execution_count": null,
      "outputs": [
        {
          "output_type": "execute_result",
          "data": {
            "text/plain": [
              "DecisionTreeRegressor(ccp_alpha=0.0, criterion='mse', max_depth=None,\n",
              "                      max_features=None, max_leaf_nodes=None,\n",
              "                      min_impurity_decrease=0.0, min_impurity_split=None,\n",
              "                      min_samples_leaf=1, min_samples_split=2,\n",
              "                      min_weight_fraction_leaf=0.0, presort='deprecated',\n",
              "                      random_state=3246, splitter='best')"
            ]
          },
          "metadata": {
            "tags": []
          },
          "execution_count": 26
        }
      ]
    },
    {
      "cell_type": "code",
      "metadata": {
        "id": "hlHJFk9PRyjC"
      },
      "source": [
        "y_pred = regressor.predict(X_test)"
      ],
      "execution_count": null,
      "outputs": []
    },
    {
      "cell_type": "code",
      "metadata": {
        "colab": {
          "base_uri": "https://localhost:8080/"
        },
        "id": "KYvjOcBySR0Q",
        "outputId": "bff7d696-033f-4783-f605-2b039fff122d"
      },
      "source": [
        "# example of calculate the mean squared error\r\n",
        "from sklearn.metrics import mean_squared_error\r\n",
        "errors = mean_squared_error(y_test, y_pred)\r\n",
        "# report error\r\n",
        "print(errors)"
      ],
      "execution_count": null,
      "outputs": [
        {
          "output_type": "stream",
          "text": [
            "0.00036589208190637354\n"
          ],
          "name": "stdout"
        }
      ]
    },
    {
      "cell_type": "code",
      "metadata": {
        "colab": {
          "base_uri": "https://localhost:8080/"
        },
        "id": "Yq6_IOTET2q9",
        "outputId": "246450be-6caf-4ce5-d82f-ceee08d7a570"
      },
      "source": [
        "print(len(y_pred))"
      ],
      "execution_count": null,
      "outputs": [
        {
          "output_type": "stream",
          "text": [
            "51840\n"
          ],
          "name": "stdout"
        }
      ]
    },
    {
      "cell_type": "code",
      "metadata": {
        "colab": {
          "base_uri": "https://localhost:8080/",
          "height": 350
        },
        "id": "ZK8eWm9JSR2d",
        "outputId": "6496d13c-9a55-477d-8044-a4b87075430c"
      },
      "source": [
        "\r\n",
        "import matplotlib.pyplot as plt\r\n",
        "\r\n",
        "g=plt.scatter(y_test, y_pred)\r\n",
        "g.axes.set_yscale('log')\r\n",
        "g.axes.set_xscale('log')\r\n",
        "g.axes.set_xlabel('True Values ')\r\n",
        "g.axes.set_ylabel('Predictions ')\r\n",
        "g.axes.axis('equal')\r\n",
        "g.axes.axis('square')"
      ],
      "execution_count": null,
      "outputs": [
        {
          "output_type": "execute_result",
          "data": {
            "text/plain": [
              "(0.09514130055352098,\n",
              " 0.5135307580277959,\n",
              " 0.12485473759002187,\n",
              " 0.5432441950642968)"
            ]
          },
          "metadata": {
            "tags": []
          },
          "execution_count": 42
        },
        {
          "output_type": "display_data",
          "data": {
            "image/png": "[encoded data removed]",
            "text/plain": [
              "<Figure size 432x288 with 1 Axes>"
            ]
          },
          "metadata": {
            "tags": [],
            "needs_background": "light"
          }
        }
      ]
    },
    {
      "cell_type": "code",
      "metadata": {
        "colab": {
          "base_uri": "https://localhost:8080/",
          "height": 265
        },
        "id": "eRDMPaDmZZ7U",
        "outputId": "2e8dfb82-cb9b-4f2a-dfb4-fd0cb6697ef3"
      },
      "source": [
        "import random\r\n",
        "import numpy\r\n",
        "from matplotlib import pyplot\r\n",
        "\r\n",
        "\r\n",
        "\r\n",
        "\r\n",
        "\r\n",
        "pyplot.hist(y_test,  alpha=0.8, label='Actual')\r\n",
        "pyplot.hist(y_pred, alpha=0.9, label='Predicted')\r\n",
        "pyplot.legend(loc='upper right')\r\n",
        "pyplot.show()"
      ],
      "execution_count": null,
      "outputs": [
        {
          "output_type": "display_data",
          "data": {
            "image/png": "[encoded data removed]",
            "text/plain": [
              "<Figure size 432x288 with 1 Axes>"
            ]
          },
          "metadata": {
            "tags": [],
            "needs_background": "light"
          }
        }
      ]
    }
  ]
}