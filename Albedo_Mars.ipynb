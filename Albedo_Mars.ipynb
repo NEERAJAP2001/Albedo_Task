{
  "nbformat": 4,
  "nbformat_minor": 0,
  "metadata": {
    "colab": {
      "name": "Albedo_Mars.ipynb",
      "provenance": [],
      "collapsed_sections": []
    },
    "kernelspec": {
      "name": "python3",
      "display_name": "Python 3"
    }
  },
  "cells": [
    {
      "cell_type": "code",
      "metadata": {
        "id": "CWzFgakCt9kw"
      },
      "source": [
        "import pandas as pd\r\n",
        "import numpy as np"
      ],
      "execution_count": null,
      "outputs": []
    },
    {
      "cell_type": "code",
      "metadata": {
        "id": "eK3UJWBhu1HA"
      },
      "source": [
        "alsi = pd.read_csv('/content/alsimap_smooth.csv')\r\n",
        "casi = pd.read_csv('/content/casimap_smooth.csv')\r\n",
        "fesi = pd.read_csv('/content/fesimap_smooth.csv')\r\n",
        "mercury_top = pd.read_csv('/content/mercury-albedo-top-half.png.csv')\r\n",
        "ssi = pd.read_csv('/content/ssimap_smooth.csv')"
      ],
      "execution_count": null,
      "outputs": []
    },
    {
      "cell_type": "code",
      "metadata": {
        "id": "Mr-OU-I5u1J0"
      },
      "source": [
        "alsi = alsi.values.flatten()\r\n",
        "casi = casi.values.flatten()\r\n",
        "fesi = fesi.values.flatten()\r\n",
        "top_m = mercury_top.values.flatten()\r\n",
        "ssi = ssi.values.flatten()"
      ],
      "execution_count": null,
      "outputs": []
    },
    {
      "cell_type": "code",
      "metadata": {
        "id": "uZcVoLN8u1MX"
      },
      "source": [
        "alsi_Map = alsi.reshape(len(alsi),1)\r\n",
        "casi_Map = casi.reshape(len(casi),1)\r\n",
        "fesi_Map = fesi.reshape(len(fesi),1)\r\n",
        "top_Map = top_m.reshape(len(top_m),1)\r\n",
        "ssi_Map = ssi.reshape(len(ssi),1)"
      ],
      "execution_count": null,
      "outputs": []
    },
    {
      "cell_type": "code",
      "metadata": {
        "id": "coLbtn0Zu1Oo"
      },
      "source": [
        "Sol = np.hstack((alsi_Map ,casi_Map , fesi_Map , ssi_Map , top_Map))"
      ],
      "execution_count": null,
      "outputs": []
    },
    {
      "cell_type": "code",
      "metadata": {
        "id": "xeWabw6iu1QY"
      },
      "source": [
        "df = pd.DataFrame(Sol, columns =['alsi_Map' ,'casi_Map' , 'fesi_Map' , 'ssi_Map' , 'top_Map']) "
      ],
      "execution_count": null,
      "outputs": []
    },
    {
      "cell_type": "code",
      "metadata": {
        "colab": {
          "base_uri": "https://localhost:8080/"
        },
        "id": "jaaALfG1xNrP",
        "outputId": "bda20a00-000e-47be-f118-c800a9a36805"
      },
      "source": [
        "df.shape"
      ],
      "execution_count": null,
      "outputs": [
        {
          "output_type": "execute_result",
          "data": {
            "text/plain": [
              "(1035360, 5)"
            ]
          },
          "metadata": {
            "tags": []
          },
          "execution_count": 18
        }
      ]
    },
    {
      "cell_type": "code",
      "metadata": {
        "id": "RktcqFujxSff"
      },
      "source": [
        "df.to_csv('Final_Mercury_Train.csv')"
      ],
      "execution_count": null,
      "outputs": []
    },
    {
      "cell_type": "code",
      "metadata": {
        "colab": {
          "base_uri": "https://localhost:8080/",
          "height": 195
        },
        "id": "YdKPjakc54c2",
        "outputId": "c8075bf2-31cc-4502-9366-cf811b214ebf"
      },
      "source": [
        "import pandas as pd\r\n",
        "data=pd.read_csv('/content/Final_Mercury_Train.csv')\r\n",
        "data.head()"
      ],
      "execution_count": 2,
      "outputs": [
        {
          "output_type": "execute_result",
          "data": {
            "text/html": [
              "<div>\n",
              "<style scoped>\n",
              "    .dataframe tbody tr th:only-of-type {\n",
              "        vertical-align: middle;\n",
              "    }\n",
              "\n",
              "    .dataframe tbody tr th {\n",
              "        vertical-align: top;\n",
              "    }\n",
              "\n",
              "    .dataframe thead th {\n",
              "        text-align: right;\n",
              "    }\n",
              "</style>\n",
              "<table border=\"1\" class=\"dataframe\">\n",
              "  <thead>\n",
              "    <tr style=\"text-align: right;\">\n",
              "      <th></th>\n",
              "      <th>Unnamed: 0</th>\n",
              "      <th>alsi_Map</th>\n",
              "      <th>casi_Map</th>\n",
              "      <th>fesi_Map</th>\n",
              "      <th>ssi_Map</th>\n",
              "      <th>top_Map</th>\n",
              "    </tr>\n",
              "  </thead>\n",
              "  <tbody>\n",
              "    <tr>\n",
              "      <th>0</th>\n",
              "      <td>0</td>\n",
              "      <td>0.0</td>\n",
              "      <td>0.0</td>\n",
              "      <td>0.0</td>\n",
              "      <td>0.0</td>\n",
              "      <td>0.486275</td>\n",
              "    </tr>\n",
              "    <tr>\n",
              "      <th>1</th>\n",
              "      <td>1</td>\n",
              "      <td>0.0</td>\n",
              "      <td>0.0</td>\n",
              "      <td>0.0</td>\n",
              "      <td>0.0</td>\n",
              "      <td>0.498039</td>\n",
              "    </tr>\n",
              "    <tr>\n",
              "      <th>2</th>\n",
              "      <td>2</td>\n",
              "      <td>0.0</td>\n",
              "      <td>0.0</td>\n",
              "      <td>0.0</td>\n",
              "      <td>0.0</td>\n",
              "      <td>0.521569</td>\n",
              "    </tr>\n",
              "    <tr>\n",
              "      <th>3</th>\n",
              "      <td>3</td>\n",
              "      <td>0.0</td>\n",
              "      <td>0.0</td>\n",
              "      <td>0.0</td>\n",
              "      <td>0.0</td>\n",
              "      <td>0.529412</td>\n",
              "    </tr>\n",
              "    <tr>\n",
              "      <th>4</th>\n",
              "      <td>4</td>\n",
              "      <td>0.0</td>\n",
              "      <td>0.0</td>\n",
              "      <td>0.0</td>\n",
              "      <td>0.0</td>\n",
              "      <td>0.541176</td>\n",
              "    </tr>\n",
              "  </tbody>\n",
              "</table>\n",
              "</div>"
            ],
            "text/plain": [
              "   Unnamed: 0  alsi_Map  casi_Map  fesi_Map  ssi_Map   top_Map\n",
              "0           0       0.0       0.0       0.0      0.0  0.486275\n",
              "1           1       0.0       0.0       0.0      0.0  0.498039\n",
              "2           2       0.0       0.0       0.0      0.0  0.521569\n",
              "3           3       0.0       0.0       0.0      0.0  0.529412\n",
              "4           4       0.0       0.0       0.0      0.0  0.541176"
            ]
          },
          "metadata": {
            "tags": []
          },
          "execution_count": 2
        }
      ]
    },
    {
      "cell_type": "code",
      "metadata": {
        "colab": {
          "base_uri": "https://localhost:8080/"
        },
        "id": "QggpYuf-eR-y",
        "outputId": "381d9d27-8281-4771-b945-72c6c9ca68a8"
      },
      "source": [
        "data.shape"
      ],
      "execution_count": 3,
      "outputs": [
        {
          "output_type": "execute_result",
          "data": {
            "text/plain": [
              "(1035360, 6)"
            ]
          },
          "metadata": {
            "tags": []
          },
          "execution_count": 3
        }
      ]
    },
    {
      "cell_type": "code",
      "metadata": {
        "id": "pDmYKggm9p_K"
      },
      "source": [
        "data.drop(['Unnamed: 0'],inplace=True,axis=1)"
      ],
      "execution_count": 4,
      "outputs": []
    },
    {
      "cell_type": "code",
      "metadata": {
        "id": "hzJA9YNs54kl"
      },
      "source": [
        "X = data['top_Map'].values.reshape(-1,1)\r\n",
        "y = data.drop(['top_Map'],axis=1)\r\n",
        "\r\n",
        "\r\n"
      ],
      "execution_count": 5,
      "outputs": []
    },
    {
      "cell_type": "code",
      "metadata": {
        "colab": {
          "base_uri": "https://localhost:8080/"
        },
        "id": "nIGI_NWyQckQ",
        "outputId": "de96a611-81c0-454c-bf19-111d75701dad"
      },
      "source": [
        "\r\n",
        "\r\n",
        "\r\n",
        "# Training the Decision Tree Regression model on the whole dataset\r\n",
        "from sklearn.tree import DecisionTreeRegressor\r\n",
        "regressor = DecisionTreeRegressor(ccp_alpha=0.0, criterion='mse', max_depth=None,\r\n",
        "                      max_features=None, max_leaf_nodes=None,\r\n",
        "                      min_impurity_decrease=0.0, min_impurity_split=None,\r\n",
        "                      min_samples_leaf=1, min_samples_split=2,\r\n",
        "                      min_weight_fraction_leaf=0.0, presort='deprecated',\r\n",
        "                      random_state=3246, splitter='best')\r\n",
        "\r\n",
        "\r\n",
        "regressor.fit(X, y)\r\n",
        "\r\n",
        "\r\n"
      ],
      "execution_count": 6,
      "outputs": [
        {
          "output_type": "execute_result",
          "data": {
            "text/plain": [
              "DecisionTreeRegressor(ccp_alpha=0.0, criterion='mse', max_depth=None,\n",
              "                      max_features=None, max_leaf_nodes=None,\n",
              "                      min_impurity_decrease=0.0, min_impurity_split=None,\n",
              "                      min_samples_leaf=1, min_samples_split=2,\n",
              "                      min_weight_fraction_leaf=0.0, presort='deprecated',\n",
              "                      random_state=3246, splitter='best')"
            ]
          },
          "metadata": {
            "tags": []
          },
          "execution_count": 6
        }
      ]
    },
    {
      "cell_type": "code",
      "metadata": {
        "id": "JpM6whEuT1Eh"
      },
      "source": [
        "import pandas as pd\r\n",
        "test=pd.read_csv('/content/mercury-albedo-resized-bottom-half.png.csv')\r\n"
      ],
      "execution_count": 7,
      "outputs": []
    },
    {
      "cell_type": "code",
      "metadata": {
        "id": "lt3dNSRwT1KQ"
      },
      "source": [
        "test = test.values.flatten()"
      ],
      "execution_count": 8,
      "outputs": []
    },
    {
      "cell_type": "code",
      "metadata": {
        "id": "erx9Rq8HT1MZ"
      },
      "source": [
        "test_Map = test.reshape(len(test),1)"
      ],
      "execution_count": 9,
      "outputs": []
    },
    {
      "cell_type": "code",
      "metadata": {
        "id": "6bbtUzaCS8_3"
      },
      "source": [
        "y_pred = regressor.predict(test_Map)"
      ],
      "execution_count": 10,
      "outputs": []
    },
    {
      "cell_type": "code",
      "metadata": {
        "colab": {
          "base_uri": "https://localhost:8080/"
        },
        "id": "Kk_8ks7yS-l9",
        "outputId": "5966a6a1-d932-4568-abd5-20d2b67c31c5"
      },
      "source": [
        "# example of calculate the mean squared error\r\n",
        "from sklearn.metrics import mean_squared_error\r\n",
        "errors = mean_squared_error(y, y_pred)\r\n",
        "# report error\r\n",
        "print(errors)"
      ],
      "execution_count": 11,
      "outputs": [
        {
          "output_type": "stream",
          "text": [
            "0.07325897271770831\n"
          ],
          "name": "stdout"
        }
      ]
    },
    {
      "cell_type": "code",
      "metadata": {
        "id": "37OwxGeggtfq"
      },
      "source": [
        "#regressor.predict([0.541176].reshape(-1,1))"
      ],
      "execution_count": null,
      "outputs": []
    },
    {
      "cell_type": "code",
      "metadata": {
        "colab": {
          "base_uri": "https://localhost:8080/",
          "height": 350
        },
        "id": "7M22NsfBgLmD",
        "outputId": "0013fba5-c367-4cd9-d8d6-6cdfe700a087"
      },
      "source": [
        "import matplotlib.pyplot as plt\r\n",
        "\r\n",
        "g=plt.scatter(y, y_pred)\r\n",
        "g.axes.set_yscale('log')\r\n",
        "g.axes.set_xscale('log')\r\n",
        "g.axes.set_xlabel('True Values ')\r\n",
        "g.axes.set_ylabel('Predictions ')\r\n",
        "g.axes.axis('equal')\r\n",
        "g.axes.axis('square')"
      ],
      "execution_count": 48,
      "outputs": [
        {
          "output_type": "execute_result",
          "data": {
            "text/plain": [
              "(0.07943282347242814,\n",
              " 12.589254117941675,\n",
              " 0.08912509381337455,\n",
              " 12.59894638828262)"
            ]
          },
          "metadata": {
            "tags": []
          },
          "execution_count": 48
        },
        {
          "output_type": "display_data",
          "data": {
            "image/png": "[encoded data removed]",
            "text/plain": [
              "<Figure size 432x288 with 1 Axes>"
            ]
          },
          "metadata": {
            "tags": [],
            "needs_background": "light"
          }
        }
      ]
    }
  ]
}